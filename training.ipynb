{
 "cells": [
  {
   "cell_type": "markdown",
   "id": "burning-mathematics",
   "metadata": {},
   "source": [
    "## Clone repository"
   ]
  },
  {
   "cell_type": "code",
   "execution_count": null,
   "id": "plastic-assist",
   "metadata": {},
   "outputs": [],
   "source": [
    "!git clone https://github.com/ultralytics/yolov5"
   ]
  },
  {
   "cell_type": "markdown",
   "id": "random-independence",
   "metadata": {},
   "source": [
    "## Install requirements"
   ]
  },
  {
   "cell_type": "code",
   "execution_count": null,
   "id": "built-wilderness",
   "metadata": {},
   "outputs": [],
   "source": [
    "!pip install -r requirements.txt"
   ]
  },
  {
   "cell_type": "code",
   "execution_count": null,
   "id": "coral-jumping",
   "metadata": {},
   "outputs": [],
   "source": [
    "%pip install -q wandb  "
   ]
  },
  {
   "cell_type": "code",
   "execution_count": null,
   "id": "center-gallery",
   "metadata": {},
   "outputs": [],
   "source": [
    "!git clone https://github.com/ufoym/imbalanced-dataset-sampler\n",
    "%cd imbalanced-dataset-sampler"
   ]
  },
  {
   "cell_type": "code",
   "execution_count": null,
   "id": "advanced-delicious",
   "metadata": {},
   "outputs": [],
   "source": [
    "!python setup.py install"
   ]
  },
  {
   "cell_type": "markdown",
   "id": "liberal-emperor",
   "metadata": {},
   "source": [
    "## Giulia API Key"
   ]
  },
  {
   "cell_type": "code",
   "execution_count": null,
   "id": "threaded-journal",
   "metadata": {},
   "outputs": [],
   "source": [
    "#import os\n",
    "#WANDB_API_KEY= 'b9ce0ac37518ed3979101e8a8eeaf27fc3a13139'\n",
    "#os.environ['WANDB_API_KEY'] = WANDB_API_KEY \n",
    "#API key Giulia\n",
    "#!wandb login"
   ]
  },
  {
   "cell_type": "markdown",
   "id": "rising-vietnamese",
   "metadata": {},
   "source": [
    "## Kutay API Key"
   ]
  },
  {
   "cell_type": "code",
   "execution_count": 2,
   "id": "resistant-sleep",
   "metadata": {},
   "outputs": [
    {
     "name": "stdout",
     "output_type": "stream",
     "text": [
      "\u001b[34m\u001b[1mwandb\u001b[0m: Currently logged in as: \u001b[33mkutay\u001b[0m (use `wandb login --relogin` to force relogin)\r\n"
     ]
    }
   ],
   "source": [
    "import os\n",
    "WANDB_API_KEY= 'd4cea02e3fa0374fa24e619598b5cbff8aa02f53' \n",
    "os.environ['WANDB_API_KEY'] = WANDB_API_KEY\n",
    "#API key Kutay\n",
    "!wandb login"
   ]
  },
  {
   "cell_type": "code",
   "execution_count": 1,
   "id": "naughty-deadline",
   "metadata": {},
   "outputs": [
    {
     "name": "stdout",
     "output_type": "stream",
     "text": [
      "/home/jupyter/yolov5\n",
      "2e_64b_s_not_frz_coco_640img4  imbalanced-dataset-sampler  train.py\r\n",
      "Dockerfile\t\t       metrics.txt\t\t   tutorial.ipynb\r\n",
      "LICENSE\t\t\t       models\t\t\t   utils\r\n",
      "README.md\t\t       project.csv\t\t   wandb\r\n",
      "__pycache__\t\t       requirements.txt\t\t   weights\r\n",
      "data\t\t\t       runs\t\t\t   who_wrote_this.csv\r\n",
      "detect.py\t\t       test.py\r\n",
      "hubconf.py\t\t       test_data\r\n"
     ]
    }
   ],
   "source": [
    "%cd yolov5\n",
    "!ls"
   ]
  },
  {
   "cell_type": "code",
   "execution_count": 3,
   "id": "aware-oriental",
   "metadata": {},
   "outputs": [
    {
     "name": "stdout",
     "output_type": "stream",
     "text": [
      "/home/jupyter/yolov5\r\n"
     ]
    }
   ],
   "source": [
    "!pwd"
   ]
  },
  {
   "cell_type": "code",
   "execution_count": 21,
   "id": "north-helicopter",
   "metadata": {},
   "outputs": [
    {
     "name": "stdout",
     "output_type": "stream",
     "text": [
      "\u001b[34m\u001b[1mgithub: \u001b[0m⚠️ WARNING: code is out of date by 8 commits. Use 'git pull' to update or 'git clone https://github.com/ultralytics/yolov5' to download latest.\n",
      "YOLOv5 🚀 v4.0-150-g1620669 torch 1.7.1 CUDA:0 (Tesla T4, 15109.75MB)\n",
      "\n",
      "Namespace(adam=False, artifact_alias='latest', batch_size=64, bbox_interval=-1, bucket='', cache_images=True, cfg='models/yolov5s.yaml', data='test_data/data.yaml', device='', entity=None, epochs=4, evolve=False, exist_ok=False, global_rank=-1, hyp='data/hyp.scratch.yaml', image_weights=False, img_size=[640, 640], linear_lr=False, local_rank=-1, multi_scale=False, name='4e_64b_s_not_frz_coco_640img', noautoanchor=False, nosave=True, notest=False, project='runs/train/test_data', quad=False, rect=False, resume=False, save_dir='runs/train/test_data/4e_64b_s_not_frz_coco_640img', save_period=-1, single_cls=False, sync_bn=False, total_batch_size=64, upload_dataset=False, weights='weights/yolov5s.pt', workers=8, world_size=1)\n",
      "\u001b[34m\u001b[1mtensorboard: \u001b[0mStart with 'tensorboard --logdir runs/train/test_data', view at http://localhost:6006/\n",
      "2021-03-26 13:31:22.607700: I tensorflow/stream_executor/platform/default/dso_loader.cc:49] Successfully opened dynamic library libcudart.so.11.0\n",
      "\u001b[34m\u001b[1mhyperparameters: \u001b[0mlr0=0.01, lrf=0.2, momentum=0.937, weight_decay=0.0005, warmup_epochs=3.0, warmup_momentum=0.8, warmup_bias_lr=0.1, box=0.05, cls=0.5, cls_pw=1.0, obj=1.0, obj_pw=1.0, iou_t=0.2, anchor_t=4.0, fl_gamma=0.0, hsv_h=0.015, hsv_s=0.7, hsv_v=0.4, degrees=0.0, translate=0.1, scale=0.5, shear=0.0, perspective=0.0, flipud=0.0, fliplr=0.5, mosaic=1.0, mixup=0.0\n",
      "\u001b[34m\u001b[1mwandb\u001b[0m: Currently logged in as: \u001b[33mkutay\u001b[0m (use `wandb login --relogin` to force relogin)\n",
      "2021-03-26 13:31:25.119353: I tensorflow/stream_executor/platform/default/dso_loader.cc:49] Successfully opened dynamic library libcudart.so.11.0\n",
      "\u001b[34m\u001b[1mwandb\u001b[0m: Tracking run with wandb version 0.10.23\n",
      "\u001b[34m\u001b[1mwandb\u001b[0m: Syncing run \u001b[33m4e_64b_s_not_frz_coco_640img\u001b[0m\n",
      "\u001b[34m\u001b[1mwandb\u001b[0m: ⭐️ View project at \u001b[34m\u001b[4mhttps://wandb.ai/kutay/test_data\u001b[0m\n",
      "\u001b[34m\u001b[1mwandb\u001b[0m: 🚀 View run at \u001b[34m\u001b[4mhttps://wandb.ai/kutay/test_data/runs/qoqukmaw\u001b[0m\n",
      "\u001b[34m\u001b[1mwandb\u001b[0m: Run data is saved locally in /home/jupyter/yolov5/wandb/run-20210326_133123-qoqukmaw\n",
      "\u001b[34m\u001b[1mwandb\u001b[0m: Run `wandb offline` to turn off syncing.\n",
      "\n",
      "Overriding model.yaml nc=80 with nc=4\n",
      "\n",
      "                 from  n    params  module                                  arguments                     \n",
      "  0                -1  1      3520  models.common.Focus                     [3, 32, 3]                    \n",
      "  1                -1  1     18560  models.common.Conv                      [32, 64, 3, 2]                \n",
      "  2                -1  1     18816  models.common.C3                        [64, 64, 1]                   \n",
      "  3                -1  1     73984  models.common.Conv                      [64, 128, 3, 2]               \n",
      "  4                -1  1    156928  models.common.C3                        [128, 128, 3]                 \n",
      "  5                -1  1    295424  models.common.Conv                      [128, 256, 3, 2]              \n",
      "  6                -1  1    625152  models.common.C3                        [256, 256, 3]                 \n",
      "  7                -1  1   1180672  models.common.Conv                      [256, 512, 3, 2]              \n",
      "  8                -1  1    656896  models.common.SPP                       [512, 512, [5, 9, 13]]        \n",
      "  9                -1  1   1182720  models.common.C3                        [512, 512, 1, False]          \n",
      " 10                -1  1    131584  models.common.Conv                      [512, 256, 1, 1]              \n",
      " 11                -1  1         0  torch.nn.modules.upsampling.Upsample    [None, 2, 'nearest']          \n",
      " 12           [-1, 6]  1         0  models.common.Concat                    [1]                           \n",
      " 13                -1  1    361984  models.common.C3                        [512, 256, 1, False]          \n",
      " 14                -1  1     33024  models.common.Conv                      [256, 128, 1, 1]              \n",
      " 15                -1  1         0  torch.nn.modules.upsampling.Upsample    [None, 2, 'nearest']          \n",
      " 16           [-1, 4]  1         0  models.common.Concat                    [1]                           \n",
      " 17                -1  1     90880  models.common.C3                        [256, 128, 1, False]          \n",
      " 18                -1  1    147712  models.common.Conv                      [128, 128, 3, 2]              \n",
      " 19          [-1, 14]  1         0  models.common.Concat                    [1]                           \n",
      " 20                -1  1    296448  models.common.C3                        [256, 256, 1, False]          \n",
      " 21                -1  1    590336  models.common.Conv                      [256, 256, 3, 2]              \n",
      " 22          [-1, 10]  1         0  models.common.Concat                    [1]                           \n",
      " 23                -1  1   1182720  models.common.C3                        [512, 512, 1, False]          \n",
      " 24      [17, 20, 23]  1     24273  models.yolo.Detect                      [4, [[10, 13, 16, 30, 33, 23], [30, 61, 62, 45, 59, 119], [116, 90, 156, 198, 373, 326]], [128, 256, 512]]\n",
      "Model Summary: 283 layers, 7071633 parameters, 7071633 gradients, 16.4 GFLOPS\n",
      "\n",
      "Transferred 354/362 items from weights/yolov5s.pt\n",
      "Scaled weight_decay = 0.0005\n",
      "Optimizer groups: 62 .bias, 62 conv.weight, 59 other\n",
      "\u001b[34m\u001b[1mtrain: \u001b[0mScanning 'test_data/train/labels.cache' images and labels... 1827 found, 0 missing, 8 empty, 0 corrupted: 100%|██████████| 1827/1827 [00:00<?, ?it/s]\n",
      "\u001b[34m\u001b[1mtrain: \u001b[0mCaching images (2.2GB): 100%|██████████| 1827/1827 [00:04<00:00, 419.46it/s]\n",
      "\u001b[34m\u001b[1mval: \u001b[0mScanning 'test_data/valid/labels.cache' images and labels... 174 found, 0 missing, 0 empty, 0 corrupted: 100%|██████████| 174/174 [00:00<?, ?it/s]\n",
      "  0%|          | 0/174 [00:00<?, ?it/s]\u001b[A\n",
      "\u001b[34m\u001b[1mval: \u001b[0mCaching images (0.0GB):   7%|▋         | 12/174 [00:00<00:01, 115.56it/s]\u001b[A\n",
      "\u001b[34m\u001b[1mval: \u001b[0mCaching images (0.0GB):  22%|██▏       | 38/174 [00:00<00:00, 198.80it/s]\u001b[A\n",
      "\u001b[34m\u001b[1mval: \u001b[0mCaching images (0.1GB):  39%|███▉      | 68/174 [00:00<00:00, 220.66it/s]\u001b[A\n",
      "\u001b[34m\u001b[1mval: \u001b[0mCaching images (0.1GB):  57%|█████▋    | 100/174 [00:00<00:00, 231.00it/s]\u001b[A\n",
      "\u001b[34m\u001b[1mval: \u001b[0mCaching images (0.2GB):  76%|███████▋  | 133/174 [00:00<00:00, 227.04it/s]\u001b[A\n",
      "\u001b[34m\u001b[1mval: \u001b[0mCaching images (0.2GB): 100%|██████████| 174/174 [00:00<00:00, 242.36it/s]\u001b[A\n",
      "\u001b[34m\u001b[1mval: \u001b[0mScanning 'test_data/valid/labels.cache' images and labels... 174 found, 0 missing, 0 empty, 0 corrupted: 100%|██████████| 174/174 [00:01<?, ?it/s]\n",
      "\n",
      "\u001b[34m\u001b[1mval: \u001b[0mScanning 'test_data/valid/labels.cache' images and labels... 174 found, 0 missing, 0 empty, 0 corrupted: 100%|██████████| 174/174 [00:01<?, ?it/s]\n",
      "\u001b[34m\u001b[1mval: \u001b[0mScanning 'test_data/valid/labels.cache' images and labels... 174 found, 0 missing, 0 empty, 0 corrupted: 100%|██████████| 174/174 [00:01<?, ?it/s]\n",
      "\u001b[34m\u001b[1mval: \u001b[0mScanning 'test_data/valid/labels.cache' images and labels... 174 found, 0 missing, 0 empty, 0 corrupted: 100%|██████████| 174/174 [00:01<?, ?it/s]\n",
      "\u001b[34m\u001b[1mval: \u001b[0mScanning 'test_data/valid/labels.cache' images and labels... 174 found, 0 missing, 0 empty, 0 corrupted: 100%|██████████| 174/174 [00:02<?, ?it/s]\n",
      "\n",
      "\u001b[34m\u001b[1mautoanchor: \u001b[0mAnalyzing anchors... anchors/target = 3.89, Best Possible Recall (BPR) = 0.9974\n",
      "Image sizes 640 train, 640 test\n",
      "Using 4 dataloader workers\n",
      "Logging results to runs/train/test_data/4e_64b_s_not_frz_coco_640img\n",
      "Starting training for 4 epochs...\n",
      "\n",
      "     Epoch   gpu_mem       box       obj       cls     total    labels  img_size\n",
      "       0/3     9.63G    0.1088   0.03721   0.04636    0.1923       179       640: 100%|██████████| 29/29 [00:35<00:00,  1.22s/it]\n",
      "               Class      Images      Labels           P           R      mAP@.5  mAP@.5:.95: 100%|██████████| 2/2 [00:10<00:00,  5.37s/it]\n",
      "                 all         174         509      0.0164        0.11     0.00551     0.00136\n",
      "Images sizes do not match. This will causes images to be display incorrectly in the UI.\n",
      "\n",
      "     Epoch   gpu_mem       box       obj       cls     total    labels  img_size\n"
     ]
    },
    {
     "name": "stdout",
     "output_type": "stream",
     "text": [
      "       1/3     11.8G   0.09018   0.04264   0.04018     0.173       182       640: 100%|██████████| 29/29 [00:22<00:00,  1.28it/s]\n",
      "               Class      Images      Labels           P           R      mAP@.5  mAP@.5:.95: 100%|██████████| 2/2 [00:04<00:00,  2.22s/it]\n",
      "                 all         174         509       0.416       0.107      0.0785      0.0252\n",
      "\n",
      "     Epoch   gpu_mem       box       obj       cls     total    labels  img_size\n",
      "       2/3     11.8G   0.07946   0.04452   0.03653    0.1605       191       640: 100%|██████████| 29/29 [00:22<00:00,  1.27it/s]\n",
      "               Class      Images      Labels           P           R      mAP@.5  mAP@.5:.95: 100%|██████████| 2/2 [00:04<00:00,  2.22s/it]\n",
      "                 all         174         509       0.902       0.102        0.16      0.0513\n",
      "\n",
      "     Epoch   gpu_mem       box       obj       cls     total    labels  img_size\n",
      "       3/3     11.8G   0.07118   0.04351   0.03409    0.1488       191       640: 100%|██████████| 29/29 [00:22<00:00,  1.26it/s]\n",
      "               Class      Images      Labels           P           R      mAP@.5  mAP@.5:.95: 100%|██████████| 2/2 [00:06<00:00,  3.00s/it]\n",
      "                 all         174         509        0.25       0.275       0.222       0.084\n",
      "internal construction         174         135           0           0      0.0417      0.0126\n",
      "              nozzle         174         183       0.578       0.432       0.398       0.133\n",
      "                pipe         174         125       0.137       0.064       0.057      0.0183\n",
      "         tube bundle         174          66       0.285       0.606       0.392       0.172\n",
      "4 epochs completed in 0.037 hours.\n",
      "\n",
      "Optimizer stripped from runs/train/test_data/4e_64b_s_not_frz_coco_640img/weights/last.pt, 14.4MB\n",
      "Optimizer stripped from runs/train/test_data/4e_64b_s_not_frz_coco_640img/weights/best.pt, 14.4MB\n",
      "Images sizes do not match. This will causes images to be display incorrectly in the UI.\n",
      "\n",
      "\u001b[34m\u001b[1mwandb\u001b[0m: Waiting for W&B process to finish, PID 8191\n",
      "\u001b[34m\u001b[1mwandb\u001b[0m: Program ended successfully.\n",
      "\u001b[34m\u001b[1mwandb\u001b[0m:                                                                                \n",
      "\u001b[34m\u001b[1mwandb\u001b[0m: Find user logs for this run at: /home/jupyter/yolov5/wandb/run-20210326_133123-qoqukmaw/logs/debug.log\n",
      "\u001b[34m\u001b[1mwandb\u001b[0m: Find internal logs for this run at: /home/jupyter/yolov5/wandb/run-20210326_133123-qoqukmaw/logs/debug-internal.log\n",
      "\u001b[34m\u001b[1mwandb\u001b[0m: Run summary:\n",
      "\u001b[34m\u001b[1mwandb\u001b[0m:                 train/box_loss 0.07118\n",
      "\u001b[34m\u001b[1mwandb\u001b[0m:                 train/obj_loss 0.04351\n",
      "\u001b[34m\u001b[1mwandb\u001b[0m:                 train/cls_loss 0.03409\n",
      "\u001b[34m\u001b[1mwandb\u001b[0m:              metrics/precision 0.25006\n",
      "\u001b[34m\u001b[1mwandb\u001b[0m:                 metrics/recall 0.27544\n",
      "\u001b[34m\u001b[1mwandb\u001b[0m:                metrics/mAP_0.5 0.22238\n",
      "\u001b[34m\u001b[1mwandb\u001b[0m:           metrics/mAP_0.5:0.95 0.08399\n",
      "\u001b[34m\u001b[1mwandb\u001b[0m:                   val/box_loss 0.06504\n",
      "\u001b[34m\u001b[1mwandb\u001b[0m:                   val/obj_loss 0.02245\n",
      "\u001b[34m\u001b[1mwandb\u001b[0m:                   val/cls_loss 0.03308\n",
      "\u001b[34m\u001b[1mwandb\u001b[0m:                          x/lr0 0.00036\n",
      "\u001b[34m\u001b[1mwandb\u001b[0m:                          x/lr1 0.00036\n",
      "\u001b[34m\u001b[1mwandb\u001b[0m:                          x/lr2 0.08886\n",
      "\u001b[34m\u001b[1mwandb\u001b[0m:                       _runtime 151\n",
      "\u001b[34m\u001b[1mwandb\u001b[0m:                     _timestamp 1616765635\n",
      "\u001b[34m\u001b[1mwandb\u001b[0m:                          _step 4\n",
      "\u001b[34m\u001b[1mwandb\u001b[0m: Run history:\n",
      "\u001b[34m\u001b[1mwandb\u001b[0m:         train/box_loss █▅▃▁\n",
      "\u001b[34m\u001b[1mwandb\u001b[0m:         train/obj_loss ▁▆█▇\n",
      "\u001b[34m\u001b[1mwandb\u001b[0m:         train/cls_loss █▄▂▁\n",
      "\u001b[34m\u001b[1mwandb\u001b[0m:      metrics/precision ▁▄█▃\n",
      "\u001b[34m\u001b[1mwandb\u001b[0m:         metrics/recall ▁▁▁█\n",
      "\u001b[34m\u001b[1mwandb\u001b[0m:        metrics/mAP_0.5 ▁▃▆█\n",
      "\u001b[34m\u001b[1mwandb\u001b[0m:   metrics/mAP_0.5:0.95 ▁▃▅█\n",
      "\u001b[34m\u001b[1mwandb\u001b[0m:           val/box_loss █▄▂▁\n",
      "\u001b[34m\u001b[1mwandb\u001b[0m:           val/obj_loss ▁██▄\n",
      "\u001b[34m\u001b[1mwandb\u001b[0m:           val/cls_loss █▅▃▁\n",
      "\u001b[34m\u001b[1mwandb\u001b[0m:                  x/lr0 ▁██▄\n",
      "\u001b[34m\u001b[1mwandb\u001b[0m:                  x/lr1 ▁██▄\n",
      "\u001b[34m\u001b[1mwandb\u001b[0m:                  x/lr2 █▆▃▁\n",
      "\u001b[34m\u001b[1mwandb\u001b[0m:               _runtime ▁▃▅██\n",
      "\u001b[34m\u001b[1mwandb\u001b[0m:             _timestamp ▁▃▅██\n",
      "\u001b[34m\u001b[1mwandb\u001b[0m:                  _step ▁▃▅▆█\n",
      "\u001b[34m\u001b[1mwandb\u001b[0m: \n",
      "\u001b[34m\u001b[1mwandb\u001b[0m: Synced 5 W&B file(s), 143 media file(s), 1 artifact file(s) and 0 other file(s)\n",
      "\u001b[34m\u001b[1mwandb\u001b[0m: \n",
      "\u001b[34m\u001b[1mwandb\u001b[0m: Synced \u001b[33m4e_64b_s_not_frz_coco_640img\u001b[0m: \u001b[34mhttps://wandb.ai/kutay/test_data/runs/qoqukmaw\u001b[0m\n"
     ]
    }
   ],
   "source": [
    "yolo_version = 's'\n",
    "#epochs = 250\n",
    "epochs = 4\n",
    "batches= 64\n",
    "#batches= 16\n",
    "#yaml= 'overhead_cranes/data.yaml'\n",
    "#project = 'runs/train/overhead_cranes'\n",
    "#model = 'models/yolov5'+yolo_version+'.yaml'\n",
    "\n",
    "#yaml= 'storage_tank_new/data.yaml'\n",
    "#project = 'runs/train/storage_tank_new'\n",
    "#model = 'models/yolov5'+yolo_version+'.yaml'\n",
    "\n",
    "\n",
    "\n",
    "yaml= 'test_data/data.yaml'\n",
    "project = 'runs/train/test_data'\n",
    "model = 'models/yolov5'+yolo_version+'.yaml'\n",
    "\n",
    "which_weights = 'coco' # coco, cust or our best\n",
    "freez = 'false'\n",
    "#img_size = 416\n",
    "img_size = 640\n",
    "\n",
    "if freez == 'true':\n",
    "    freez_name = 'frz'\n",
    "elif freez == 'false':\n",
    "    freez_name = 'not_frz'\n",
    "\n",
    "#freeze = ['model.%s.' % x for x in range(10)]\n",
    "\n",
    "if which_weights == 'st':\n",
    "    weights='runs/train/st_modified/250e_16b_s_not_frz_coco_640img/weights/last.pt' # our best weights must be moved here\n",
    "elif which_weights == 'coco':\n",
    "    weights = 'weights/yolov5'+yolo_version+'.pt' # yolov5s.pt\n",
    "elif which_weights == 'cust':\n",
    "    weights = 'runs/train/st_modified/'+str(epochs)+'e_'+str(batches)+'b_'+yolo_version+'_'+str(img_size)+'img/weights/last.pt'\n",
    "    #weights = 'runs/train/storage_tank_2/'+str(epochs)+'e_'+str(batches)+'b_'+yolo_version+'/weights/last.pt'\n",
    "\n",
    "name=str(epochs)+'e_'+str(batches)+'b_'+yolo_version+'_'+freez_name+'_'+which_weights+'_'+str(img_size)+'img'\n",
    "\n",
    "# include  --evolve in the command if you want to do hyperparameters evolution --> takes hundreds of hours\n",
    "#original train command\n",
    "\n",
    "\n",
    "!python train.py --img-size {img_size} --batch {batches} --epochs {epochs} --data {yaml} --cfg {model} --weights {weights} --nosave --cache --project {project} --name {name}\n",
    "#!python train.py --img-size {img_size} --batch {batches} --epochs {epochs} --data {yaml} --cfg {model} --weights '' --nosave --cache --project {project} --freezing {freez} --name {name}\n",
    "#!python train.py --img-size {img_size} --batch {batches} --epochs {epochs} --data {yaml} --cfg {model} --weights {weights} --nosave --project {project} --freezing {freez} --name {name}"
   ]
  }
 ],
 "metadata": {
  "environment": {
   "name": "pytorch-gpu.1-7.m65",
   "type": "gcloud",
   "uri": "gcr.io/deeplearning-platform-release/pytorch-gpu.1-7:m65"
  },
  "kernelspec": {
   "display_name": "Python 3",
   "language": "python",
   "name": "python3"
  },
  "language_info": {
   "codemirror_mode": {
    "name": "ipython",
    "version": 3
   },
   "file_extension": ".py",
   "mimetype": "text/x-python",
   "name": "python",
   "nbconvert_exporter": "python",
   "pygments_lexer": "ipython3",
   "version": "3.7.10"
  }
 },
 "nbformat": 4,
 "nbformat_minor": 5
}
